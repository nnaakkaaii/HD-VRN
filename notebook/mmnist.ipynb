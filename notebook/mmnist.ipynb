{
 "cells": [
  {
   "cell_type": "code",
   "execution_count": 1,
   "metadata": {},
   "outputs": [],
   "source": [
    "import sys\n",
    "sys.path.append(\"..\")"
   ]
  },
  {
   "cell_type": "code",
   "execution_count": 18,
   "metadata": {},
   "outputs": [],
   "source": [
    "import torch\n",
    "import matplotlib.pyplot as plt\n",
    "from torch.utils.data import DataLoader\n",
    "from torchvision import transforms\n",
    "from hrdae.models.networks import create_network, RDAE2dOption, AutoEncoder2dNetworkOption\n",
    "from hrdae.models.networks.motion_encoder import MotionRNNEncoder1dOption\n",
    "from hrdae.models.networks.rnn import TCN1dOption\n",
    "from hrdae.dataloaders.datasets import create_dataset, MovingMNISTDatasetOption\n",
    "from hrdae.dataloaders.transforms import create_transform, MinMaxNormalizationOption\n"
   ]
  },
  {
   "cell_type": "markdown",
   "metadata": {},
   "source": [
    "# contrastive autoencoderの効果測定"
   ]
  },
  {
   "cell_type": "code",
   "execution_count": 3,
   "metadata": {},
   "outputs": [],
   "source": [
    "# results/BasicDataLoaderOption/BasicModelOption/AutoEncoder2dNetworkOption/2024-07-02_07-37-26/options.yaml\n",
    "net = create_network(\n",
    "    1,\n",
    "    opt=AutoEncoder2dNetworkOption(\n",
    "        activation=\"sigmoid\",\n",
    "        hidden_channels=64,\n",
    "        latent_dim=32,\n",
    "        conv_params=[{\"kernel_size\": [3], \"stride\": [2], \"padding\": [1], \"output_padding\": [1]}] * 4,\n",
    "    )\n",
    ")"
   ]
  },
  {
   "cell_type": "code",
   "execution_count": 4,
   "metadata": {},
   "outputs": [
    {
     "data": {
      "text/plain": [
       "<All keys matched successfully>"
      ]
     },
     "execution_count": 4,
     "metadata": {},
     "output_type": "execute_result"
    }
   ],
   "source": [
    "net.load_state_dict(torch.load(\"../results/BasicDataLoaderOption/BasicModelOption/AutoEncoder2dNetworkOption/2024-07-02_07-37-26/weights/best_model.pth\"))"
   ]
  },
  {
   "cell_type": "code",
   "execution_count": 5,
   "metadata": {},
   "outputs": [
    {
     "data": {
      "text/plain": [
       "AutoEncoder2d(\n",
       "  (encoder): AEEncoder2d(\n",
       "    (cnn): HierarchicalConvEncoder2d(\n",
       "      (layers): ModuleList(\n",
       "        (0): Sequential(\n",
       "          (0): ConvBlock2d(\n",
       "            (conv): Conv2d(1, 64, kernel_size=(3, 3), stride=(2, 2), padding=(1, 1))\n",
       "          )\n",
       "          (1): IdenticalConvBlock2d(\n",
       "            (conv): Conv2d(64, 64, kernel_size=(3, 3), stride=(1, 1), padding=(1, 1))\n",
       "          )\n",
       "        )\n",
       "        (1-3): 3 x Sequential(\n",
       "          (0): ConvBlock2d(\n",
       "            (conv): Conv2d(64, 64, kernel_size=(3, 3), stride=(2, 2), padding=(1, 1))\n",
       "          )\n",
       "          (1): IdenticalConvBlock2d(\n",
       "            (conv): Conv2d(64, 64, kernel_size=(3, 3), stride=(1, 1), padding=(1, 1))\n",
       "          )\n",
       "        )\n",
       "        (4): ConvBlock2d(\n",
       "          (conv): Conv2d(64, 64, kernel_size=(3, 3), stride=(1, 1), padding=(1, 1))\n",
       "        )\n",
       "      )\n",
       "    )\n",
       "    (bottleneck): PixelWiseConv2d(\n",
       "      (conv): Conv2d(64, 32, kernel_size=(1, 1), stride=(1, 1))\n",
       "    )\n",
       "  )\n",
       "  (decoder): AEDecoder2d(\n",
       "    (bottleneck): PixelWiseConv2d(\n",
       "      (conv): Conv2d(32, 64, kernel_size=(1, 1), stride=(1, 1))\n",
       "    )\n",
       "    (cnn): ConvModule2d(\n",
       "      (layers): ModuleList(\n",
       "        (0-2): 3 x Sequential(\n",
       "          (0): ConvBlock2d(\n",
       "            (conv): ConvTranspose2d(64, 64, kernel_size=(3, 3), stride=(2, 2), padding=(1, 1), output_padding=(1, 1))\n",
       "          )\n",
       "          (1): IdenticalConvBlock2d(\n",
       "            (conv): Conv2d(64, 64, kernel_size=(3, 3), stride=(1, 1), padding=(1, 1))\n",
       "          )\n",
       "        )\n",
       "        (3): ConvBlock2d(\n",
       "          (conv): ConvTranspose2d(64, 1, kernel_size=(3, 3), stride=(2, 2), padding=(1, 1), output_padding=(1, 1))\n",
       "        )\n",
       "      )\n",
       "    )\n",
       "  )\n",
       "  (activation): Sigmoid()\n",
       ")"
      ]
     },
     "execution_count": 5,
     "metadata": {},
     "output_type": "execute_result"
    }
   ],
   "source": [
    "net.eval()"
   ]
  },
  {
   "cell_type": "code",
   "execution_count": 6,
   "metadata": {},
   "outputs": [],
   "source": [
    "dataset = create_dataset(\n",
    "    opt=MovingMNISTDatasetOption(\n",
    "        sequential=True,\n",
    "        root=\"../data\",\n",
    "        slice_index=[16, 24, 32, 40, 48],\n",
    "        content_phase=\"0\",\n",
    "        motion_phase=\"0\",\n",
    "        motion_aggregation=\"none\",\n",
    "    ),\n",
    "    transform=transforms.Compose([\n",
    "        create_transform(MinMaxNormalizationOption()),\n",
    "    ]),\n",
    "    is_train=False,\n",
    ")"
   ]
  },
  {
   "cell_type": "code",
   "execution_count": 12,
   "metadata": {},
   "outputs": [],
   "source": [
    "loader = DataLoader(dataset=dataset, batch_size=8, shuffle=False)"
   ]
  },
  {
   "cell_type": "code",
   "execution_count": 20,
   "metadata": {},
   "outputs": [
    {
     "name": "stdout",
     "output_type": "stream",
     "text": [
      "torch.Size([8, 10, 1, 64, 64])\n",
      "torch.Size([80, 1, 64, 64]) torch.Size([80, 32, 4, 4])\n"
     ]
    },
    {
     "data": {
      "image/png": "[encoded data removed]",
      "text/plain": [
       "<Figure size 1000x800 with 2 Axes>"
      ]
     },
     "metadata": {},
     "output_type": "display_data"
    }
   ],
   "source": [
    "for data in loader:\n",
    "    xp = data[\"xp\"]\n",
    "    print(xp.shape)\n",
    "    y, latent = net(xp.reshape(80, 1, 64, 64))\n",
    "    print(y.shape, latent.shape)\n",
    "\n",
    "    latent = latent.clone().detach()\n",
    "\n",
    "    distances = torch.cdist(latent.view(80, -1), latent.view(80, -1))\n",
    "\n",
    "    # 距離の最大値で正規化し、距離が小さいほど赤くするために1から引く\n",
    "    normalized_distances = 1.0 - distances / distances.max()\n",
    "\n",
    "    # ヒートマップの描画\n",
    "    plt.figure(figsize=(10, 8))\n",
    "    plt.imshow(normalized_distances, cmap='hot', interpolation='nearest')\n",
    "    plt.colorbar()\n",
    "    plt.title('Distance Heatmap')\n",
    "    plt.show()\n",
    "    \n",
    "    # 同じframeのlatentはどのくらい似ているか\n",
    "\n",
    "    # for i in range(10):\n",
    "    #     for j in range(10):\n",
    "    #         if i != j:\n",
    "    #             print(i, j, ((latents[i][0]-latents[j][0])**2).mean())\n",
    "    #         else:\n",
    "    #             mse = 0.\n",
    "    #             for k in range(10):\n",
    "    #                 mse += ((latents[i][0] - latents[i][k])**2).mean()\n",
    "    #             print(i, i, mse / 10)\n",
    "    # for i in range(len(y)):\n",
    "    #     for j in range(len(y)):\n",
    "    #         if i == j:\n",
    "    #             l1 = 0.\n",
    "    #             for _xp_0 in xp[i]:\n",
    "    #                 l2 = net.content_encoder(_xp_0.unsqueeze(0)).squeeze()\n",
    "    #                 l1 += float(((latent[0][i]-l2)**2).mean())\n",
    "    #                 print(float(((latent[0][i]-l2)**2).mean()))\n",
    "    #             print(f\"i={i} / j={j}\", l1 / len(xp[i]))\n",
    "    #             continue\n",
    "    #         print(f\"i={i} / j={j}\", float(((latent[0][i]-latent[0][j])**2).mean()))\n",
    "    #     print(\"mse:\", float(((y[i]-xp[i])**2).mean()))\n",
    "\n",
    "    break"
   ]
  },
  {
   "cell_type": "code",
   "execution_count": 22,
   "metadata": {},
   "outputs": [
    {
     "ename": "RuntimeError",
     "evalue": "Error(s) in loading state_dict for AutoEncoder2d:\n\tMissing key(s) in state_dict: \"encoder.cnn.layers.0.0.conv.weight\", \"encoder.cnn.layers.0.0.conv.bias\", \"encoder.cnn.layers.0.1.conv.weight\", \"encoder.cnn.layers.0.1.conv.bias\", \"encoder.cnn.layers.1.0.conv.weight\", \"encoder.cnn.layers.1.0.conv.bias\", \"encoder.cnn.layers.1.1.conv.weight\", \"encoder.cnn.layers.1.1.conv.bias\", \"encoder.cnn.layers.2.0.conv.weight\", \"encoder.cnn.layers.2.0.conv.bias\", \"encoder.cnn.layers.2.1.conv.weight\", \"encoder.cnn.layers.2.1.conv.bias\", \"encoder.cnn.layers.3.0.conv.weight\", \"encoder.cnn.layers.3.0.conv.bias\", \"encoder.cnn.layers.3.1.conv.weight\", \"encoder.cnn.layers.3.1.conv.bias\", \"encoder.cnn.layers.4.conv.weight\", \"encoder.cnn.layers.4.conv.bias\", \"encoder.bottleneck.conv.weight\", \"encoder.bottleneck.conv.bias\", \"decoder.bottleneck.conv.weight\", \"decoder.bottleneck.conv.bias\", \"decoder.cnn.layers.0.0.conv.weight\", \"decoder.cnn.layers.0.0.conv.bias\", \"decoder.cnn.layers.0.1.conv.weight\", \"decoder.cnn.layers.0.1.conv.bias\", \"decoder.cnn.layers.1.0.conv.weight\", \"decoder.cnn.layers.1.0.conv.bias\", \"decoder.cnn.layers.1.1.conv.weight\", \"decoder.cnn.layers.1.1.conv.bias\", \"decoder.cnn.layers.2.0.conv.weight\", \"decoder.cnn.layers.2.0.conv.bias\", \"decoder.cnn.layers.2.1.conv.weight\", \"decoder.cnn.layers.2.1.conv.bias\", \"decoder.cnn.layers.3.conv.weight\", \"decoder.cnn.layers.3.conv.bias\". \n\tUnexpected key(s) in state_dict: \"cnn.layers.0.0.conv.weight\", \"cnn.layers.0.0.conv.bias\", \"cnn.layers.0.1.conv.weight\", \"cnn.layers.0.1.conv.bias\", \"cnn.layers.1.0.conv.weight\", \"cnn.layers.1.0.conv.bias\", \"cnn.layers.1.1.conv.weight\", \"cnn.layers.1.1.conv.bias\", \"cnn.layers.2.0.conv.weight\", \"cnn.layers.2.0.conv.bias\", \"cnn.layers.2.1.conv.weight\", \"cnn.layers.2.1.conv.bias\", \"cnn.layers.3.0.conv.weight\", \"cnn.layers.3.0.conv.bias\", \"cnn.layers.3.1.conv.weight\", \"cnn.layers.3.1.conv.bias\", \"cnn.layers.4.conv.weight\", \"cnn.layers.4.conv.bias\", \"bottleneck.conv.weight\", \"bottleneck.conv.bias\". ",
     "output_type": "error",
     "traceback": [
      "\u001b[0;31m---------------------------------------------------------------------------\u001b[0m",
      "\u001b[0;31mRuntimeError\u001b[0m                              Traceback (most recent call last)",
      "Cell \u001b[0;32mIn[22], line 1\u001b[0m\n\u001b[0;32m----> 1\u001b[0m \u001b[43mnet\u001b[49m\u001b[38;5;241;43m.\u001b[39;49m\u001b[43mload_state_dict\u001b[49m\u001b[43m(\u001b[49m\u001b[43mtorch\u001b[49m\u001b[38;5;241;43m.\u001b[39;49m\u001b[43mload\u001b[49m\u001b[43m(\u001b[49m\u001b[38;5;124;43m\"\u001b[39;49m\u001b[38;5;124;43m../results/BasicDataLoaderOption/BasicModelOption/AutoEncoder2dNetworkOption/2024-06-28_06-30-41/weights/best_encoder.pth\u001b[39;49m\u001b[38;5;124;43m\"\u001b[39;49m\u001b[43m)\u001b[49m\u001b[43m)\u001b[49m\n",
      "File \u001b[0;32m~/dev/D-3DVRVAE/.venv/lib/python3.12/site-packages/torch/nn/modules/module.py:2189\u001b[0m, in \u001b[0;36mModule.load_state_dict\u001b[0;34m(self, state_dict, strict, assign)\u001b[0m\n\u001b[1;32m   2184\u001b[0m         error_msgs\u001b[38;5;241m.\u001b[39minsert(\n\u001b[1;32m   2185\u001b[0m             \u001b[38;5;241m0\u001b[39m, \u001b[38;5;124m'\u001b[39m\u001b[38;5;124mMissing key(s) in state_dict: \u001b[39m\u001b[38;5;132;01m{}\u001b[39;00m\u001b[38;5;124m. \u001b[39m\u001b[38;5;124m'\u001b[39m\u001b[38;5;241m.\u001b[39mformat(\n\u001b[1;32m   2186\u001b[0m                 \u001b[38;5;124m'\u001b[39m\u001b[38;5;124m, \u001b[39m\u001b[38;5;124m'\u001b[39m\u001b[38;5;241m.\u001b[39mjoin(\u001b[38;5;124mf\u001b[39m\u001b[38;5;124m'\u001b[39m\u001b[38;5;124m\"\u001b[39m\u001b[38;5;132;01m{\u001b[39;00mk\u001b[38;5;132;01m}\u001b[39;00m\u001b[38;5;124m\"\u001b[39m\u001b[38;5;124m'\u001b[39m \u001b[38;5;28;01mfor\u001b[39;00m k \u001b[38;5;129;01min\u001b[39;00m missing_keys)))\n\u001b[1;32m   2188\u001b[0m \u001b[38;5;28;01mif\u001b[39;00m \u001b[38;5;28mlen\u001b[39m(error_msgs) \u001b[38;5;241m>\u001b[39m \u001b[38;5;241m0\u001b[39m:\n\u001b[0;32m-> 2189\u001b[0m     \u001b[38;5;28;01mraise\u001b[39;00m \u001b[38;5;167;01mRuntimeError\u001b[39;00m(\u001b[38;5;124m'\u001b[39m\u001b[38;5;124mError(s) in loading state_dict for \u001b[39m\u001b[38;5;132;01m{}\u001b[39;00m\u001b[38;5;124m:\u001b[39m\u001b[38;5;130;01m\\n\u001b[39;00m\u001b[38;5;130;01m\\t\u001b[39;00m\u001b[38;5;132;01m{}\u001b[39;00m\u001b[38;5;124m'\u001b[39m\u001b[38;5;241m.\u001b[39mformat(\n\u001b[1;32m   2190\u001b[0m                        \u001b[38;5;28mself\u001b[39m\u001b[38;5;241m.\u001b[39m\u001b[38;5;18m__class__\u001b[39m\u001b[38;5;241m.\u001b[39m\u001b[38;5;18m__name__\u001b[39m, \u001b[38;5;124m\"\u001b[39m\u001b[38;5;130;01m\\n\u001b[39;00m\u001b[38;5;130;01m\\t\u001b[39;00m\u001b[38;5;124m\"\u001b[39m\u001b[38;5;241m.\u001b[39mjoin(error_msgs)))\n\u001b[1;32m   2191\u001b[0m \u001b[38;5;28;01mreturn\u001b[39;00m _IncompatibleKeys(missing_keys, unexpected_keys)\n",
      "\u001b[0;31mRuntimeError\u001b[0m: Error(s) in loading state_dict for AutoEncoder2d:\n\tMissing key(s) in state_dict: \"encoder.cnn.layers.0.0.conv.weight\", \"encoder.cnn.layers.0.0.conv.bias\", \"encoder.cnn.layers.0.1.conv.weight\", \"encoder.cnn.layers.0.1.conv.bias\", \"encoder.cnn.layers.1.0.conv.weight\", \"encoder.cnn.layers.1.0.conv.bias\", \"encoder.cnn.layers.1.1.conv.weight\", \"encoder.cnn.layers.1.1.conv.bias\", \"encoder.cnn.layers.2.0.conv.weight\", \"encoder.cnn.layers.2.0.conv.bias\", \"encoder.cnn.layers.2.1.conv.weight\", \"encoder.cnn.layers.2.1.conv.bias\", \"encoder.cnn.layers.3.0.conv.weight\", \"encoder.cnn.layers.3.0.conv.bias\", \"encoder.cnn.layers.3.1.conv.weight\", \"encoder.cnn.layers.3.1.conv.bias\", \"encoder.cnn.layers.4.conv.weight\", \"encoder.cnn.layers.4.conv.bias\", \"encoder.bottleneck.conv.weight\", \"encoder.bottleneck.conv.bias\", \"decoder.bottleneck.conv.weight\", \"decoder.bottleneck.conv.bias\", \"decoder.cnn.layers.0.0.conv.weight\", \"decoder.cnn.layers.0.0.conv.bias\", \"decoder.cnn.layers.0.1.conv.weight\", \"decoder.cnn.layers.0.1.conv.bias\", \"decoder.cnn.layers.1.0.conv.weight\", \"decoder.cnn.layers.1.0.conv.bias\", \"decoder.cnn.layers.1.1.conv.weight\", \"decoder.cnn.layers.1.1.conv.bias\", \"decoder.cnn.layers.2.0.conv.weight\", \"decoder.cnn.layers.2.0.conv.bias\", \"decoder.cnn.layers.2.1.conv.weight\", \"decoder.cnn.layers.2.1.conv.bias\", \"decoder.cnn.layers.3.conv.weight\", \"decoder.cnn.layers.3.conv.bias\". \n\tUnexpected key(s) in state_dict: \"cnn.layers.0.0.conv.weight\", \"cnn.layers.0.0.conv.bias\", \"cnn.layers.0.1.conv.weight\", \"cnn.layers.0.1.conv.bias\", \"cnn.layers.1.0.conv.weight\", \"cnn.layers.1.0.conv.bias\", \"cnn.layers.1.1.conv.weight\", \"cnn.layers.1.1.conv.bias\", \"cnn.layers.2.0.conv.weight\", \"cnn.layers.2.0.conv.bias\", \"cnn.layers.2.1.conv.weight\", \"cnn.layers.2.1.conv.bias\", \"cnn.layers.3.0.conv.weight\", \"cnn.layers.3.0.conv.bias\", \"cnn.layers.3.1.conv.weight\", \"cnn.layers.3.1.conv.bias\", \"cnn.layers.4.conv.weight\", \"cnn.layers.4.conv.bias\", \"bottleneck.conv.weight\", \"bottleneck.conv.bias\". "
     ]
    }
   ],
   "source": [
    "net.load_state_dict(torch.load(\"../results/BasicDataLoaderOption/BasicModelOption/AutoEncoder2dNetworkOption/2024-06-28_06-30-41/weights/best_encoder.pth\"))"
   ]
  },
  {
   "cell_type": "code",
   "execution_count": 21,
   "metadata": {},
   "outputs": [
    {
     "data": {
      "text/plain": [
       "tensor(0.)"
      ]
     },
     "execution_count": 21,
     "metadata": {},
     "output_type": "execute_result"
    }
   ],
   "source": [
    "((xp_0 - xp[:, 0])**2).mean()"
   ]
  },
  {
   "cell_type": "code",
   "execution_count": 53,
   "metadata": {},
   "outputs": [],
   "source": [
    "import torch\n",
    "import torch.nn.functional as F"
   ]
  },
  {
   "cell_type": "code",
   "execution_count": 80,
   "metadata": {},
   "outputs": [],
   "source": [
    "def contrastive_loss(features, tau=0.1):\n",
    "    \"\"\"\n",
    "    Compute contrastive loss for features in shape (t, n, c)\n",
    "    :param features: Tensor of shape (t=num_classes, n=samples_per_class, c=feature_dim)\n",
    "    :param tau: Temperature scaling parameter\n",
    "    :return: Contrastive loss\n",
    "    \"\"\"\n",
    "    t, n, c = features.size()\n",
    "    features = features.view(t * n, c)\n",
    "    square_distances = torch.cdist(features, features, p=2)\n",
    "\n",
    "    labels = 1 - torch.eye(t*n).to(features.device)  # 同じ要素は0、それ以外は1\n",
    "    for i in range(t):\n",
    "        labels[i*n:(i+1)*n, i*n:(i+1)*n] = 0\n",
    "\n",
    "    positive_loss = (1 - labels) * 0.5 * torch.pow(square_distances, 2)\n",
    "    negative_loss = labels * 0.5 * torch.pow(torch.clamp(tau - square_distances, min=0.0), 2)\n",
    "    \n",
    "    loss = torch.sum(positive_loss + negative_loss) / (t * n * (t * n - 1))\n",
    "    \n",
    "    return loss\n"
   ]
  },
  {
   "cell_type": "code",
   "execution_count": 81,
   "metadata": {},
   "outputs": [
    {
     "name": "stdout",
     "output_type": "stream",
     "text": [
      "Contrastive Loss: 1.3802295923233032\n"
     ]
    }
   ],
   "source": [
    "# Example tensor with random data\n",
    "num_classes = 4\n",
    "samples_per_class = 3\n",
    "feature_dim = 10\n",
    "\n",
    "# Randomly generate features\n",
    "features = torch.randn(num_classes, samples_per_class, feature_dim)\n",
    "\n",
    "# Compute loss\n",
    "loss = contrastive_loss(features)\n",
    "print(\"Contrastive Loss:\", loss.item())"
   ]
  },
  {
   "cell_type": "code",
   "execution_count": 82,
   "metadata": {},
   "outputs": [
    {
     "data": {
      "text/plain": [
       "tensor(0.0002)"
      ]
     },
     "execution_count": 82,
     "metadata": {},
     "output_type": "execute_result"
    }
   ],
   "source": [
    "contrastive_loss(torch.randn(4, 1, 1).repeat(1, 3, 10))"
   ]
  },
  {
   "cell_type": "code",
   "execution_count": null,
   "metadata": {},
   "outputs": [],
   "source": []
  }
 ],
 "metadata": {
  "kernelspec": {
   "display_name": ".venv",
   "language": "python",
   "name": "python3"
  },
  "language_info": {
   "codemirror_mode": {
    "name": "ipython",
    "version": 3
   },
   "file_extension": ".py",
   "mimetype": "text/x-python",
   "name": "python",
   "nbconvert_exporter": "python",
   "pygments_lexer": "ipython3",
   "version": "3.12.3"
  }
 },
 "nbformat": 4,
 "nbformat_minor": 2
}
